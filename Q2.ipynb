{
 "cells": [
  {
   "cell_type": "code",
   "execution_count": 3,
   "id": "edeb2908",
   "metadata": {},
   "outputs": [
    {
     "name": "stdout",
     "output_type": "stream",
     "text": [
      "0\n",
      "2\n",
      "-1\n"
     ]
    }
   ],
   "source": [
    "#Q2\n",
    "def firstUniqChar(s):\n",
    "    char_count = {} \n",
    "    for char in s:\n",
    "        char_count[char] = char_count.get(char, 0) + 1\n",
    "    for i, char in enumerate(s):\n",
    "        if char_count[char] == 1:\n",
    "            return i\n",
    "    return -1  \n",
    "\n",
    "s = \"leetcode\"\n",
    "print(firstUniqChar(s)) \n",
    "s1 = \"loveleetcode\"\n",
    "print(firstUniqChar(s1)) \n",
    "s2 =  \"aabb\"\n",
    "print(firstUniqChar(s2)) "
   ]
  },
  {
   "cell_type": "code",
   "execution_count": null,
   "id": "82e28a0a",
   "metadata": {},
   "outputs": [],
   "source": []
  }
 ],
 "metadata": {
  "kernelspec": {
   "display_name": "Python 3 (ipykernel)",
   "language": "python",
   "name": "python3"
  },
  "language_info": {
   "codemirror_mode": {
    "name": "ipython",
    "version": 3
   },
   "file_extension": ".py",
   "mimetype": "text/x-python",
   "name": "python",
   "nbconvert_exporter": "python",
   "pygments_lexer": "ipython3",
   "version": "3.11.1"
  }
 },
 "nbformat": 4,
 "nbformat_minor": 5
}
